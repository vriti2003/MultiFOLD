{
 "cells": [
  {
   "cell_type": "markdown",
   "metadata": {},
   "source": [
    "### Importing libraries"
   ]
  },
  {
   "cell_type": "code",
   "execution_count": 3,
   "metadata": {},
   "outputs": [],
   "source": [
    "import os\n",
    "from PIL import Image\n",
    "from transformers import DonutProcessor, pipeline\n",
    "import pandas as pd"
   ]
  },
  {
   "cell_type": "markdown",
   "metadata": {},
   "source": [
    "### Loading model and Tokenizer"
   ]
  },
  {
   "cell_type": "code",
   "execution_count": null,
   "metadata": {},
   "outputs": [],
   "source": [
    "# Load the processor\n",
    "processor = DonutProcessor.from_pretrained(\"jinhybr/OCR-Donut-CORD\")\n",
    "ocr_pipeline = pipeline(\"image-to-text\", model=\"jinhybr/OCR-Donut-CORD\")"
   ]
  },
  {
   "cell_type": "markdown",
   "metadata": {},
   "source": [
    "### Utilities"
   ]
  },
  {
   "cell_type": "code",
   "execution_count": 4,
   "metadata": {},
   "outputs": [],
   "source": [
    "# Function for OCR\n",
    "def ocr_image(src_img):\n",
    "    # Get the prediction from the OCR model\n",
    "    output_text = prediction = ocr_pipeline(src_img)[0][\"generated_text\"]\n",
    "    return output_text"
   ]
  },
  {
   "cell_type": "markdown",
   "metadata": {},
   "source": [
    "### Loading the clutter images"
   ]
  },
  {
   "cell_type": "code",
   "execution_count": 5,
   "metadata": {},
   "outputs": [],
   "source": [
    "parent_dir = '../sentence_images/cluttered'\n",
    "\n",
    "# looping through folders\n",
    "folder_list = os.listdir(parent_dir)"
   ]
  },
  {
   "cell_type": "markdown",
   "metadata": {},
   "source": [
    "### Inferencing the model"
   ]
  },
  {
   "cell_type": "code",
   "execution_count": null,
   "metadata": {},
   "outputs": [],
   "source": [
    "page, idx, sentence = [], [], []\n",
    "\n",
    "for folder in folder_list :\n",
    "    files = os.listdir(os.path.join(parent_dir, folder))\n",
    "\n",
    "    img_files = [f for f in files if os.path.isfile(os.path.join(parent_dir, folder, f))]\n",
    "    for img in files:\n",
    "        page.append(folder)\n",
    "        idx.append(img[:-4])\n",
    "\n",
    "        full_image = Image.open(os.path.join(parent_dir, folder, img)).convert(\"RGB\")\n",
    "        text = ocr_image(full_image)\n",
    "        sentence.append(text)\n",
    "\n",
    "data = {\n",
    "        'page' : page,\n",
    "        'index' : idx,\n",
    "        'sentence' : sentence\n",
    "    }\n",
    "\n",
    "df = pd.DataFrame(data)\n",
    "df.to_csv(\"ocr_donut_cord_ocr.csv\", mode='a', header=False, index=False)"
   ]
  },
  {
   "cell_type": "code",
   "execution_count": null,
   "metadata": {},
   "outputs": [],
   "source": []
  }
 ],
 "metadata": {
  "kernelspec": {
   "display_name": "ocr_models_env",
   "language": "python",
   "name": "python3"
  },
  "language_info": {
   "codemirror_mode": {
    "name": "ipython",
    "version": 3
   },
   "file_extension": ".py",
   "mimetype": "text/x-python",
   "name": "python",
   "nbconvert_exporter": "python",
   "pygments_lexer": "ipython3",
   "version": "3.10.12"
  }
 },
 "nbformat": 4,
 "nbformat_minor": 2
}
