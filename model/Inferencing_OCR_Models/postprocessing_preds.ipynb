{
 "cells": [
  {
   "cell_type": "markdown",
   "metadata": {},
   "source": [
    "### Importing Libraries"
   ]
  },
  {
   "cell_type": "code",
   "execution_count": 12,
   "metadata": {},
   "outputs": [],
   "source": [
    "import numpy as np\n",
    "import pandas as pd\n",
    "import re"
   ]
  },
  {
   "cell_type": "markdown",
   "metadata": {},
   "source": [
    "### Refining Llama_3_2_11B_vision_ocr.csv"
   ]
  },
  {
   "cell_type": "code",
   "execution_count": 47,
   "metadata": {},
   "outputs": [],
   "source": [
    "llama_csv = pd.read_csv('Llama_3_2_11B_vision_ocr.csv')"
   ]
  },
  {
   "cell_type": "code",
   "execution_count": 48,
   "metadata": {},
   "outputs": [],
   "source": [
    "llama_preds = llama_csv.iloc[:, 2]"
   ]
  },
  {
   "cell_type": "code",
   "execution_count": 49,
   "metadata": {},
   "outputs": [],
   "source": [
    "refined_preds = []\n",
    "for llama_pred in llama_preds:    \n",
    "    pattern = r'<OCR/>(.*)'\n",
    "\n",
    "    # Find all matches using re.findall\n",
    "    matches = re.findall(pattern, llama_pred)\n",
    "\n",
    "    # Print the matches\n",
    "    string = ''\n",
    "    for match in matches:\n",
    "        string += match\n",
    "\n",
    "    refined_preds.append(string)"
   ]
  },
  {
   "cell_type": "code",
   "execution_count": 26,
   "metadata": {},
   "outputs": [],
   "source": [
    "llama_csv['New Column'] = refined_preds\n",
    "\n",
    "llama_csv.to_csv('Llama_3_2_11B_vision_ocr_refined.csv', index=False, header=False)"
   ]
  },
  {
   "cell_type": "markdown",
   "metadata": {},
   "source": [
    "### Refine the ocr_donut_cord_ocr.csv"
   ]
  },
  {
   "cell_type": "code",
   "execution_count": 62,
   "metadata": {},
   "outputs": [],
   "source": [
    "ocr_donut_csv = pd.read_csv('ocr_donut_cord_ocr.csv')"
   ]
  },
  {
   "cell_type": "code",
   "execution_count": 63,
   "metadata": {},
   "outputs": [],
   "source": [
    "ocr_donut_preds = ocr_donut_csv.iloc[:, 2]"
   ]
  },
  {
   "cell_type": "code",
   "execution_count": 64,
   "metadata": {},
   "outputs": [],
   "source": [
    "refined_preds = []\n",
    "for donut_pred in ocr_donut_preds:    \n",
    "    pattern = r'>(.*?)<'\n",
    "\n",
    "    # Find all matches using re.findall\n",
    "    matches = re.findall(pattern, donut_pred)\n",
    "\n",
    "    # Print the matches\n",
    "    string = ''\n",
    "    for match in matches:\n",
    "        string += match\n",
    "\n",
    "    refined_preds.append(string)"
   ]
  },
  {
   "cell_type": "code",
   "execution_count": 65,
   "metadata": {},
   "outputs": [],
   "source": [
    "ocr_donut_csv['New Column'] = refined_preds\n",
    "\n",
    "ocr_donut_csv.to_csv('ocr_donut_cord_ocr_refined.csv', index=False, header=False)"
   ]
  },
  {
   "cell_type": "markdown",
   "metadata": {},
   "source": [
    "### Refined the qwen2_vl-7b_i_ocr.csv"
   ]
  },
  {
   "cell_type": "code",
   "execution_count": 57,
   "metadata": {},
   "outputs": [],
   "source": [
    "qwen_csv = pd.read_csv('qwen2_vl-7b_i_ocr.csv')"
   ]
  },
  {
   "cell_type": "code",
   "execution_count": 58,
   "metadata": {},
   "outputs": [],
   "source": [
    "qwen_preds = qwen_csv.iloc[:, 2]"
   ]
  },
  {
   "cell_type": "code",
   "execution_count": 59,
   "metadata": {},
   "outputs": [],
   "source": [
    "match = re.search(r'\"(.*?)\"', qwen_preds[0])\n",
    "\n",
    "if match:\n",
    "    extracted_text = match.group(1)\n",
    "else:\n",
    "    extracted_text = \"\""
   ]
  },
  {
   "cell_type": "code",
   "execution_count": 60,
   "metadata": {},
   "outputs": [],
   "source": [
    "refined_preds = []\n",
    "for qwen_pred in qwen_preds:    \n",
    "    pattern = r'\"(.*?)\"'\n",
    "\n",
    "    matches = re.findall(pattern, qwen_pred)\n",
    "\n",
    "    # Print the matches\n",
    "    string = ''\n",
    "    for match in matches:\n",
    "        string += match\n",
    "\n",
    "    refined_preds.append(string)"
   ]
  },
  {
   "cell_type": "code",
   "execution_count": 61,
   "metadata": {},
   "outputs": [],
   "source": [
    "qwen_csv['New Column'] = refined_preds\n",
    "\n",
    "qwen_csv.to_csv('qwen2_vl-7b_i_ocr_refined.csv', index=False, header=False)"
   ]
  }
 ],
 "metadata": {
  "kernelspec": {
   "display_name": "clutter_env",
   "language": "python",
   "name": "python3"
  },
  "language_info": {
   "codemirror_mode": {
    "name": "ipython",
    "version": 3
   },
   "file_extension": ".py",
   "mimetype": "text/x-python",
   "name": "python",
   "nbconvert_exporter": "python",
   "pygments_lexer": "ipython3",
   "version": "3.10.12"
  }
 },
 "nbformat": 4,
 "nbformat_minor": 2
}
